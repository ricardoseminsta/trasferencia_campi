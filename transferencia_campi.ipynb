{
 "cells": [
  {
   "cell_type": "code",
   "execution_count": null,
   "id": "6af5078d",
   "metadata": {},
   "outputs": [],
   "source": [
    "import pandas as pd\n",
    "\n",
    "tombos_df = pd.read_excel('requisicao_palm.xlsx')\n",
    "display(tombos_df.head())\n",
    "\n",
    "autentica = pd.read_excel('ls.xlsx')\n",
    "\n",
    "login = str(autentica['login'][0])\n",
    "senha = str(autentica['senha'][0])"
   ]
  },
  {
   "cell_type": "code",
   "execution_count": null,
   "id": "ea33c31c",
   "metadata": {},
   "outputs": [],
   "source": [
    "from selenium import webdriver\n",
    "from selenium.webdriver.common.keys import Keys\n",
    "from selenium.webdriver.support.ui import Select\n",
    "import time\n",
    "\n",
    "\n",
    "\n",
    "def abrir_suap():\n",
    "    \n",
    "    global nav\n",
    "    nav = webdriver.Chrome()\n",
    "    nav.get(\"https://suap.ifpe.edu.br/accounts/login/?next=/\")\n",
    "    # inserindo usuário\n",
    "    nav.find_element_by_xpath('//*[@id=\"id_username\"]').click()\n",
    "    nav.find_element_by_xpath('//*[@id=\"id_username\"]').send_keys(login)\n",
    "\n",
    "    # inserindo senha \n",
    "    nav.find_element_by_xpath('//*[@id=\"id_password\"]').click()\n",
    "    nav.find_element_by_xpath('//*[@id=\"id_password\"]').send_keys(senha)\n",
    "\n",
    "    nav.find_element_by_xpath('//*[@id=\"ok\"]').click()\n"
   ]
  },
  {
   "cell_type": "code",
   "execution_count": null,
   "id": "64aabfe5",
   "metadata": {},
   "outputs": [],
   "source": [
    "def requisitar_saida():\n",
    "    \n",
    "    abrir_suap()\n",
    "    \n",
    "    nav.get(\"https://suap.ifpe.edu.br/patrimonio/requisitar_saida/\")\n",
    "    \n",
    "    for tombo in tombos_df['tombo']:\n",
    "        \n",
    "        nav.find_element_by_id('ajaxmultiselect_input_inventarios_add').send_keys(tombo)\n",
    "        time.sleep(5)\n",
    "        nav.find_element_by_id('ajaxmultiselect_input_inventarios_add').send_keys(Keys.ENTER)\n"
   ]
  },
  {
   "cell_type": "code",
   "execution_count": null,
   "id": "dceafa78",
   "metadata": {},
   "outputs": [],
   "source": [
    "def requisitar_entrada():\n",
    "    \n",
    "    abrir_suap()\n",
    "    \n",
    "    nav.get(\"https://suap.ifpe.edu.br/patrimonio/requisitar_entrada/\")\n",
    "    \n",
    "    for tombo in tombos_df['tombo']:\n",
    "        \n",
    "        nav.find_element_by_id('ajaxmultiselect_input_inventarios_add').send_keys(tombo)\n",
    "        time.sleep(5)\n",
    "        nav.find_element_by_id('ajaxmultiselect_input_inventarios_add').send_keys(Keys.ENTER)\n"
   ]
  },
  {
   "cell_type": "code",
   "execution_count": null,
   "id": "b6385aa5",
   "metadata": {},
   "outputs": [],
   "source": [
    "requisitar_entrada()"
   ]
  },
  {
   "cell_type": "code",
   "execution_count": null,
   "id": "ce44a3b2",
   "metadata": {},
   "outputs": [],
   "source": []
  }
 ],
 "metadata": {
  "kernelspec": {
   "display_name": "Python 3",
   "language": "python",
   "name": "python3"
  },
  "language_info": {
   "codemirror_mode": {
    "name": "ipython",
    "version": 3
   },
   "file_extension": ".py",
   "mimetype": "text/x-python",
   "name": "python",
   "nbconvert_exporter": "python",
   "pygments_lexer": "ipython3",
   "version": "3.8.8"
  }
 },
 "nbformat": 4,
 "nbformat_minor": 5
}
