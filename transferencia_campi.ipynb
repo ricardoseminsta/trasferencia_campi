{
 "cells": [
  {
   "cell_type": "code",
   "execution_count": 7,
   "id": "6af5078d",
   "metadata": {},
   "outputs": [
    {
     "data": {
      "text/html": [
       "<div>\n",
       "<style scoped>\n",
       "    .dataframe tbody tr th:only-of-type {\n",
       "        vertical-align: middle;\n",
       "    }\n",
       "\n",
       "    .dataframe tbody tr th {\n",
       "        vertical-align: top;\n",
       "    }\n",
       "\n",
       "    .dataframe thead th {\n",
       "        text-align: right;\n",
       "    }\n",
       "</style>\n",
       "<table border=\"1\" class=\"dataframe\">\n",
       "  <thead>\n",
       "    <tr style=\"text-align: right;\">\n",
       "      <th></th>\n",
       "      <th>tombo</th>\n",
       "    </tr>\n",
       "  </thead>\n",
       "  <tbody>\n",
       "    <tr>\n",
       "      <th>0</th>\n",
       "      <td>261038</td>\n",
       "    </tr>\n",
       "    <tr>\n",
       "      <th>1</th>\n",
       "      <td>261039</td>\n",
       "    </tr>\n",
       "    <tr>\n",
       "      <th>2</th>\n",
       "      <td>261040</td>\n",
       "    </tr>\n",
       "    <tr>\n",
       "      <th>3</th>\n",
       "      <td>261041</td>\n",
       "    </tr>\n",
       "    <tr>\n",
       "      <th>4</th>\n",
       "      <td>261042</td>\n",
       "    </tr>\n",
       "  </tbody>\n",
       "</table>\n",
       "</div>"
      ],
      "text/plain": [
       "    tombo\n",
       "0  261038\n",
       "1  261039\n",
       "2  261040\n",
       "3  261041\n",
       "4  261042"
      ]
     },
     "metadata": {},
     "output_type": "display_data"
    }
   ],
   "source": [
    "import pandas as pd\n",
    "\n",
    "tombos_df = pd.read_excel('transferencia_belo_jardim.xlsx')\n",
    "display(tombos_df.head())\n",
    "\n",
    "autentica = pd.read_excel('ls.xlsx')\n",
    "\n",
    "login = str(autentica['login'][0])\n",
    "senha = str(autentica['senha'][0])"
   ]
  },
  {
   "cell_type": "code",
   "execution_count": 8,
   "id": "ea33c31c",
   "metadata": {},
   "outputs": [],
   "source": [
    "from selenium import webdriver\n",
    "from selenium.webdriver.common.keys import Keys\n",
    "from selenium.webdriver.support.ui import Select\n",
    "import time\n",
    "\n",
    "\n",
    "\n",
    "def abrir_suap():\n",
    "    \n",
    "    global nav\n",
    "    nav = webdriver.Chrome()\n",
    "    nav.get(\"https://suap.ifpe.edu.br/accounts/login/?next=/\")\n",
    "    # inserindo usuário\n",
    "    nav.find_element_by_xpath('//*[@id=\"id_username\"]').click()\n",
    "    nav.find_element_by_xpath('//*[@id=\"id_username\"]').send_keys(login)\n",
    "\n",
    "    # inserindo senha \n",
    "    nav.find_element_by_xpath('//*[@id=\"id_password\"]').click()\n",
    "    nav.find_element_by_xpath('//*[@id=\"id_password\"]').send_keys(senha)\n",
    "\n",
    "    nav.find_element_by_xpath('//*[@id=\"ok\"]').click()\n"
   ]
  },
  {
   "cell_type": "code",
   "execution_count": 9,
   "id": "64aabfe5",
   "metadata": {},
   "outputs": [],
   "source": [
    "def preencher_inventario():\n",
    "    \n",
    "    abrir_suap()\n",
    "    \n",
    "    nav.get(\"https://suap.ifpe.edu.br/patrimonio/requisitar_saida/\")\n",
    "    \n",
    "    for tombo in tombos_df['tombo']:\n",
    "        \n",
    "        nav.find_element_by_id('ajaxmultiselect_input_inventarios_add').send_keys(tombo)\n",
    "        time.sleep(5)\n",
    "        nav.find_element_by_id('ajaxmultiselect_input_inventarios_add').send_keys(Keys.ENTER)\n"
   ]
  },
  {
   "cell_type": "code",
   "execution_count": 10,
   "id": "b6385aa5",
   "metadata": {},
   "outputs": [],
   "source": [
    "preencher_inventario()"
   ]
  },
  {
   "cell_type": "code",
   "execution_count": null,
   "id": "ce44a3b2",
   "metadata": {},
   "outputs": [],
   "source": []
  }
 ],
 "metadata": {
  "kernelspec": {
   "display_name": "Python 3",
   "language": "python",
   "name": "python3"
  },
  "language_info": {
   "codemirror_mode": {
    "name": "ipython",
    "version": 3
   },
   "file_extension": ".py",
   "mimetype": "text/x-python",
   "name": "python",
   "nbconvert_exporter": "python",
   "pygments_lexer": "ipython3",
   "version": "3.8.8"
  }
 },
 "nbformat": 4,
 "nbformat_minor": 5
}
